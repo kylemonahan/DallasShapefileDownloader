{
 "cells": [
  {
   "cell_type": "code",
   "execution_count": 4,
   "metadata": {},
   "outputs": [],
   "source": [
    "## Getting started with scraping shapefiles \n",
    "## Adapted from: https://www.spatialtimes.com/2016/09/map-service-to-shapefile-with-python-part-2-iteration/\n",
    "## Map server to download, from Kai: http://www.arcgis.com/home/webmap/viewer.html?url=https://gis.dallascityhall.com/wwwgis/rest/services/Basemap/DallasTaxParcels/MapServer/0\n",
    "\n",
    "#Name: Export ArcGIS Server Map Service Layer to Shapefile with Iterate\n",
    "#Author: Bryan McIntosh\n",
    "#Description: Python script that connects to an ArcGIS Server Map Service and downloads a single vector layer\n",
    "#             to shapefiles. If there are more features than AGS max allowed, it will iterate to extract all features.\n",
    "# Updated to a Python 3 where needed for ArcGIS Pro use\n",
    "\n",
    "#! /usr/bin/env python\n",
    "\n",
    "try:\n",
    "    # For Python 3.0 and later\n",
    "    from urllib.request import urlopen\n",
    "except ImportError:\n",
    "    # Fall back to Python 2's urllib2\n",
    "    from urllib2 import urlopen\n",
    "\n",
    "import json,os,arcpy,itertools # Note this script is based on ArcMap being installed and on $PATH\n",
    "ws = os.getcwd() + os.sep\n",
    "\n",
    "#Set connection to ArcGIS Server, map service, layer ID, and server max requests (1000 is AGS default if not known).\n",
    "serviceURL = \"https://gis.dallascityhall.com/wwwgis/rest/services/\" # Note how we have to pass the services component\n",
    "serviceMap = \"/Basemap/DallasTaxParcels/MapServer\" # Note how I remove the slash\n",
    "serviceLayerID = 0 # This is the slash zero at the end\n",
    "serviceMaxRequest = 1000 # Most common default, we may need to request for this from the base server as TTL\n",
    "dataOutputName = \"MyShapefile\" #This doesn't matter, just keep it consistent\n"
   ]
  },
  {
   "cell_type": "code",
   "execution_count": 5,
   "metadata": {},
   "outputs": [
    {
     "name": "stdout",
     "output_type": "stream",
     "text": [
      "C:\\Users\\KMONAH02\\Box\\Consultations\\DallasShapefileDownloader\n"
     ]
    }
   ],
   "source": [
    "# Confirm working dir - a note for Kai to check where your data will be :) \n",
    "import os \n",
    "\n",
    "print(os.getcwd())"
   ]
  },
  {
   "cell_type": "code",
   "execution_count": 10,
   "metadata": {},
   "outputs": [
    {
     "name": "stderr",
     "output_type": "stream",
     "text": [
      "IOPub data rate exceeded.\n",
      "The notebook server will temporarily stop sending output\n",
      "to the client in order to avoid crashing it.\n",
      "To change this limit, set the config variable\n",
      "`--NotebookApp.iopub_data_rate_limit`.\n",
      "\n",
      "Current values:\n",
      "NotebookApp.iopub_data_rate_limit=1000000.0 (bytes/sec)\n",
      "NotebookApp.rate_limit_window=3.0 (secs)\n",
      "\n"
     ]
    }
   ],
   "source": [
    "\n",
    "def defServiceGetIDs():\n",
    "    IDsRequest = serviceURL + serviceMap + \"/\" + str(serviceLayerID) + \"/query?where=1%3D1&text=&objectIds=&time=&geometry=&geometryType=esriGeometryEnvelope&inSR=&spatialRel=esriSpatialRelIntersects&relationParam=&outFields=&returnGeometry=true&returnTrueCurves=false&maxAllowableOffset=&geometryPrecision=&outSR=&returnIdsOnly=true&returnCountOnly=false&orderByFields=&groupByFieldsForStatistics=&outStatistics=&returnZ=false&returnM=false&gdbVersion=&returnDistinctValues=false&resultOffset=&resultRecordCount=&f=pjson\"\n",
    "    IDsResponse = urlopen(IDsRequest)\n",
    "    IDsJSON = json.loads(IDsResponse.read())\n",
    "    IDsSorted = sorted(IDsJSON['objectIds'])\n",
    "    return IDsSorted\n",
    "\n",
    "def defGroupList(n, iterable):\n",
    "    args = [iter(iterable)] * n\n",
    "    return ([e for e in t if e != None] for t in itertools.zip_longest(*args))\n",
    "    \n",
    "def defQueryExtractRequests(idMin, idMax):\n",
    "    myQuery = \"&where=objectid+>%3D+\" + idMin + \"+and+objectid+<%3D+\" + idMax\n",
    "    myParams = \"query?geometryType=esriGeometryEnvelope&spatialRel=esriSpatialRelIntersects&relationParam=&outFields=*&returnGeometry=true&geometryPrecision=&outSR=&returnIdsOnly=false&returnCountOnly=false&orderByFields=&groupByFieldsForStatistics=&returnZ=false&returnM=false&returnDistinctValues=false&returnTrueCurves=false&f=pjson\"\n",
    "    myRequest = serviceURL + serviceMap + \"/\" + str(serviceLayerID) + \"/\" + myParams + myQuery\n",
    "    print(myRequest) # Just to check that we are getting the correct values, for Kai\n",
    "    \n",
    "    response = urlopen(myRequest)\n",
    "    myJSON = response.read()\n",
    "    # Write response to json text file\n",
    "    foo = open(dataOutputName + idMin + \".json\", \"w+\")\n",
    "    foo.write(myJSON);\n",
    "    foo.close()\n",
    "    # Create Feature Class\n",
    "    arcpy.JSONToFeatures_conversion(dataOutputName + idMin + \".json\", ws + dataOutputName + idMin + \".shp\") #This is why we need Arcpy - I could attempt a GQIS approach... tempting but I'm so close to adapting this\n",
    "    \n",
    "#**MAIN**#\n",
    "#Get all objectIDs (OIDs) for the layer (there is no server limit for this request)\n",
    "AllObjectIDs = defServiceGetIDs()\n",
    "print(AllObjectIDs) # Checking values \n"
   ]
  },
  {
   "cell_type": "code",
   "execution_count": null,
   "metadata": {},
   "outputs": [],
   "source": [
    "#Divide the OIDs into chunks since there is a limit to map queries (assumed limit stored in serviceMaxRequest variable)\n",
    "ObjectID_Groups = list(defGroupList(serviceMaxRequest, AllObjectIDs))\n",
    "#Create a shapefile for each chunk\n",
    "for ObjectID_Group in ObjectID_Groups:\n",
    "    idMin = str(ObjectID_Group[0])\n",
    "    idMax = str(ObjectID_Group[-1])\n",
    "    defQueryExtractRequests(idMin, idMax)\n",
    "    \n",
    "    \n",
    "#Append all shapefiles if desired"
   ]
  }
 ],
 "metadata": {
  "kernelspec": {
   "display_name": "Python 3",
   "language": "python",
   "name": "python3"
  },
  "language_info": {
   "codemirror_mode": {
    "name": "ipython",
    "version": 3
   },
   "file_extension": ".py",
   "mimetype": "text/x-python",
   "name": "python",
   "nbconvert_exporter": "python",
   "pygments_lexer": "ipython3",
   "version": "3.6.2"
  }
 },
 "nbformat": 4,
 "nbformat_minor": 2
}
